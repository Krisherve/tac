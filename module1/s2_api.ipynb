{
 "cells": [
  {
   "cell_type": "markdown",
   "metadata": {},
   "source": [
    "# APIs: requêtes HTTP"
   ]
  },
  {
   "cell_type": "markdown",
   "metadata": {},
   "source": [
    "## Imports"
   ]
  },
  {
   "cell_type": "code",
   "execution_count": 1,
   "metadata": {},
   "outputs": [],
   "source": [
    "import json\n",
    "import requests"
   ]
  },
  {
   "cell_type": "markdown",
   "metadata": {},
   "source": [
    "connaître le nombre de mots du document pdf \n"
   ]
  },
  {
   "cell_type": "code",
   "execution_count": 21,
   "metadata": {},
   "outputs": [
    {
     "name": "stdout",
     "output_type": "stream",
     "text": [
      "Le fichier KB_JB92_1873-02-06_01-00002.pdf n'existe pas.\n"
     ]
    }
   ],
   "source": [
    "\n",
    "import PyPDF2\n",
    "import os\n",
    "\n",
    "def count_words_in_pdf(pdf_file):\n",
    "    # Vérifie si le fichier existe\n",
    "    if not os.path.exists(pdf_file):\n",
    "        print(f\"Le fichier {pdf_file} n'existe pas.\")\n",
    "        return\n",
    "\n",
    "    try:\n",
    "        # Ouvre le fichier PDF en mode binaire\n",
    "        with open(pdf_file, \"rb\") as file:\n",
    "            # Crée un lecteur de PDF\n",
    "            reader = PyPDF2.PdfReader(file)\n",
    "\n",
    "            # Variable pour stocker le texte extrait\n",
    "            text = \"\"\n",
    "\n",
    "            # Parcours de chaque page du PDF\n",
    "            for page_num in range(len(reader.pages)):\n",
    "                page = reader.pages[page_num]\n",
    "                # Extraire le texte de la page (pour versions récentes de PyPDF2)\n",
    "                text += page.extract_text() or \"\"  # Ajoute un fallback si aucun texte n'est extrait\n",
    "\n",
    "            # Compte le nombre de mots\n",
    "            words = text.split()\n",
    "            num_words = len(words)\n",
    "\n",
    "            print(f\"Nombre de mots dans le fichier PDF : {num_words}\")\n",
    "            return num_words\n",
    "\n",
    "    except Exception as e:\n",
    "        print(f\"Erreur lors de la lecture du fichier PDF : {e}\")\n",
    "        return\n",
    "\n",
    "if __name__ == \"__main__\":\n",
    "    # Remplace 'ton_fichier.pdf' par le chemin de ton fichier PDF\n",
    "    pdf_path = \"KB_JB92_1873-02-06_01-00002.pdf\"\n",
    "    count_words_in_pdf(pdf_path)\n",
    "\n"
   ]
  },
  {
   "cell_type": "markdown",
   "metadata": {},
   "source": [
    "## Utiliser REST Countries pour récupérer des informations sur un pays"
   ]
  },
  {
   "cell_type": "markdown",
   "metadata": {},
   "source": [
    "https://restcountries.com/"
   ]
  },
  {
   "cell_type": "code",
   "execution_count": 3,
   "metadata": {},
   "outputs": [
    {
     "name": "stdout",
     "output_type": "stream",
     "text": [
      "Languages: German, French, Dutch\n",
      "Borders: France, Germany, Luxembourg, Netherlands\n"
     ]
    }
   ],
   "source": [
    "country_name = \"Belgium\"\n",
    "\n",
    "base_url = \"https://restcountries.com/v3.1/\"\n",
    "name_url = base_url + \"name/\"\n",
    "code_url = base_url + \"alpha/\"\n",
    "resp = requests.get(name_url + country_name)\n",
    "country = resp.json()[0]\n",
    "try:\n",
    "    languages = country['languages']\n",
    "    print(f\"Languages: {', '.join(languages.values())}\")\n",
    "    border_codes = country['borders']\n",
    "    border_names = []\n",
    "    for code in border_codes:\n",
    "        resp = requests.get(code_url + code)\n",
    "        border_country = resp.json()[0]\n",
    "        border_name = border_country[\"name\"][\"common\"]\n",
    "        border_names.append(border_name)\n",
    "    print(f\"Borders: {', '.join(border_names)}\")\n",
    "except KeyError:\n",
    "    print(\"Unknown country, please use English or native name\")"
   ]
  },
  {
   "cell_type": "markdown",
   "metadata": {},
   "source": [
    "## Pour en savoir plus"
   ]
  },
  {
   "cell_type": "markdown",
   "metadata": {},
   "source": [
    "- Les API Rest: https://towardsdatascience.com/introduction-to-rest-apis-90b5d9676004\n",
    "- La librairie [`requests`](https://requests.readthedocs.io/en/latest/)\n",
    "- Développer une API en Python : https://openclassrooms.com/en/courses/4525361-realisez-un-dashboard-avec-tableau/5774811-creez-une-api-avec-flask"
   ]
  }
 ],
 "metadata": {
  "kernelspec": {
   "display_name": ".env",
   "language": "python",
   "name": "python3"
  },
  "language_info": {
   "codemirror_mode": {
    "name": "ipython",
    "version": 3
   },
   "file_extension": ".py",
   "mimetype": "text/x-python",
   "name": "python",
   "nbconvert_exporter": "python",
   "pygments_lexer": "ipython3",
   "version": "3.11.9"
  }
 },
 "nbformat": 4,
 "nbformat_minor": 4
}
