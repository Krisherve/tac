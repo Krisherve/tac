{
 "cells": [
  {
   "cell_type": "markdown",
   "metadata": {},
   "source": [
    "# APIs: requêtes HTTP"
   ]
  },
  {
   "cell_type": "markdown",
   "metadata": {},
   "source": [
    "## Imports"
   ]
  },
  {
   "cell_type": "code",
   "execution_count": 1,
   "metadata": {},
   "outputs": [],
   "source": [
    "import json\n",
    "import requests"
   ]
  },
  {
   "cell_type": "markdown",
   "metadata": {},
   "source": [
    "## Utilisation de Google API"
   ]
  },
  {
   "cell_type": "code",
   "execution_count": 5,
   "metadata": {},
   "outputs": [
    {
     "name": "stdout",
     "output_type": "stream",
     "text": [
      "I want to have a good note at this course\n"
     ]
    }
   ],
   "source": [
    "API_URL = \"https://translate.googleapis.com/translate_a/single\"\n",
    " \n",
    "data = {\n",
    "    \"client\": \"gtx\",\n",
    "    \"dt\": \"t\",\n",
    "    \"sl\": \"fr\",\n",
    "    \"tl\": \"en\",\n",
    "    \"q\": \"Je veux avoir une bonne note à ce cours\"    \n",
    "}\n",
    "r=requests.post(API_URL,data=data)\n",
    "print(r.json()[0][0][0])"
   ]
  }
 ],
 "metadata": {
  "kernelspec": {
   "display_name": ".env",
   "language": "python",
   "name": "python3"
  },
  "language_info": {
   "codemirror_mode": {
    "name": "ipython",
    "version": 3
   },
   "file_extension": ".py",
   "mimetype": "text/x-python",
   "name": "python",
   "nbconvert_exporter": "python",
   "pygments_lexer": "ipython3",
   "version": "3.11.9"
  }
 },
 "nbformat": 4,
 "nbformat_minor": 4
}
